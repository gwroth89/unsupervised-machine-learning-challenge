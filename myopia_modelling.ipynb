{
 "cells": [
  {
   "cell_type": "code",
   "execution_count": 1,
   "metadata": {},
   "outputs": [],
   "source": [
    "import os\n",
    "import numpy as np\n",
    "import pandas as pd\n",
    "import matplotlib.pyplot as plt\n",
    "from pathlib import Path\n",
    "from sklearn.model_selection import train_test_split\n",
    "from sklearn.preprocessing import StandardScaler\n",
    "from sklearn.decomposition import PCA\n",
    "from sklearn.cluster import KMeans\n",
    "from sklearn.manifold import TSNE"
   ]
  },
  {
   "cell_type": "code",
   "execution_count": 2,
   "metadata": {},
   "outputs": [
    {
     "data": {
      "text/html": [
       "<div>\n",
       "<style scoped>\n",
       "    .dataframe tbody tr th:only-of-type {\n",
       "        vertical-align: middle;\n",
       "    }\n",
       "\n",
       "    .dataframe tbody tr th {\n",
       "        vertical-align: top;\n",
       "    }\n",
       "\n",
       "    .dataframe thead th {\n",
       "        text-align: right;\n",
       "    }\n",
       "</style>\n",
       "<table border=\"1\" class=\"dataframe\">\n",
       "  <thead>\n",
       "    <tr style=\"text-align: right;\">\n",
       "      <th></th>\n",
       "      <th>AGE</th>\n",
       "      <th>SPHEQ</th>\n",
       "      <th>AL</th>\n",
       "      <th>ACD</th>\n",
       "      <th>LT</th>\n",
       "      <th>VCD</th>\n",
       "      <th>SPORTHR</th>\n",
       "      <th>READHR</th>\n",
       "      <th>COMPHR</th>\n",
       "      <th>STUDYHR</th>\n",
       "      <th>TVHR</th>\n",
       "      <th>DIOPTERHR</th>\n",
       "      <th>MOMMY</th>\n",
       "      <th>DADMY</th>\n",
       "      <th>MYOPIC</th>\n",
       "    </tr>\n",
       "  </thead>\n",
       "  <tbody>\n",
       "    <tr>\n",
       "      <th>0</th>\n",
       "      <td>6</td>\n",
       "      <td>-0.052</td>\n",
       "      <td>21.889999</td>\n",
       "      <td>3.690</td>\n",
       "      <td>3.498</td>\n",
       "      <td>14.70</td>\n",
       "      <td>45</td>\n",
       "      <td>8</td>\n",
       "      <td>0</td>\n",
       "      <td>0</td>\n",
       "      <td>10</td>\n",
       "      <td>34</td>\n",
       "      <td>1</td>\n",
       "      <td>1</td>\n",
       "      <td>1</td>\n",
       "    </tr>\n",
       "    <tr>\n",
       "      <th>1</th>\n",
       "      <td>6</td>\n",
       "      <td>0.608</td>\n",
       "      <td>22.379999</td>\n",
       "      <td>3.702</td>\n",
       "      <td>3.392</td>\n",
       "      <td>15.29</td>\n",
       "      <td>4</td>\n",
       "      <td>0</td>\n",
       "      <td>1</td>\n",
       "      <td>1</td>\n",
       "      <td>7</td>\n",
       "      <td>12</td>\n",
       "      <td>1</td>\n",
       "      <td>1</td>\n",
       "      <td>0</td>\n",
       "    </tr>\n",
       "    <tr>\n",
       "      <th>2</th>\n",
       "      <td>6</td>\n",
       "      <td>1.179</td>\n",
       "      <td>22.490000</td>\n",
       "      <td>3.462</td>\n",
       "      <td>3.514</td>\n",
       "      <td>15.52</td>\n",
       "      <td>14</td>\n",
       "      <td>0</td>\n",
       "      <td>2</td>\n",
       "      <td>0</td>\n",
       "      <td>10</td>\n",
       "      <td>14</td>\n",
       "      <td>0</td>\n",
       "      <td>0</td>\n",
       "      <td>0</td>\n",
       "    </tr>\n",
       "    <tr>\n",
       "      <th>3</th>\n",
       "      <td>6</td>\n",
       "      <td>0.525</td>\n",
       "      <td>22.200001</td>\n",
       "      <td>3.862</td>\n",
       "      <td>3.612</td>\n",
       "      <td>14.73</td>\n",
       "      <td>18</td>\n",
       "      <td>11</td>\n",
       "      <td>0</td>\n",
       "      <td>0</td>\n",
       "      <td>4</td>\n",
       "      <td>37</td>\n",
       "      <td>0</td>\n",
       "      <td>1</td>\n",
       "      <td>1</td>\n",
       "    </tr>\n",
       "    <tr>\n",
       "      <th>4</th>\n",
       "      <td>5</td>\n",
       "      <td>0.697</td>\n",
       "      <td>23.290001</td>\n",
       "      <td>3.676</td>\n",
       "      <td>3.454</td>\n",
       "      <td>16.16</td>\n",
       "      <td>14</td>\n",
       "      <td>0</td>\n",
       "      <td>0</td>\n",
       "      <td>0</td>\n",
       "      <td>4</td>\n",
       "      <td>4</td>\n",
       "      <td>1</td>\n",
       "      <td>0</td>\n",
       "      <td>0</td>\n",
       "    </tr>\n",
       "    <tr>\n",
       "      <th>...</th>\n",
       "      <td>...</td>\n",
       "      <td>...</td>\n",
       "      <td>...</td>\n",
       "      <td>...</td>\n",
       "      <td>...</td>\n",
       "      <td>...</td>\n",
       "      <td>...</td>\n",
       "      <td>...</td>\n",
       "      <td>...</td>\n",
       "      <td>...</td>\n",
       "      <td>...</td>\n",
       "      <td>...</td>\n",
       "      <td>...</td>\n",
       "      <td>...</td>\n",
       "      <td>...</td>\n",
       "    </tr>\n",
       "    <tr>\n",
       "      <th>613</th>\n",
       "      <td>6</td>\n",
       "      <td>0.678</td>\n",
       "      <td>22.400000</td>\n",
       "      <td>3.663</td>\n",
       "      <td>3.803</td>\n",
       "      <td>14.93</td>\n",
       "      <td>2</td>\n",
       "      <td>0</td>\n",
       "      <td>7</td>\n",
       "      <td>3</td>\n",
       "      <td>14</td>\n",
       "      <td>37</td>\n",
       "      <td>1</td>\n",
       "      <td>0</td>\n",
       "      <td>1</td>\n",
       "    </tr>\n",
       "    <tr>\n",
       "      <th>614</th>\n",
       "      <td>6</td>\n",
       "      <td>0.665</td>\n",
       "      <td>22.500000</td>\n",
       "      <td>3.570</td>\n",
       "      <td>3.378</td>\n",
       "      <td>15.56</td>\n",
       "      <td>6</td>\n",
       "      <td>0</td>\n",
       "      <td>1</td>\n",
       "      <td>0</td>\n",
       "      <td>8</td>\n",
       "      <td>10</td>\n",
       "      <td>1</td>\n",
       "      <td>1</td>\n",
       "      <td>0</td>\n",
       "    </tr>\n",
       "    <tr>\n",
       "      <th>615</th>\n",
       "      <td>6</td>\n",
       "      <td>1.834</td>\n",
       "      <td>22.940001</td>\n",
       "      <td>3.624</td>\n",
       "      <td>3.424</td>\n",
       "      <td>15.89</td>\n",
       "      <td>8</td>\n",
       "      <td>0</td>\n",
       "      <td>0</td>\n",
       "      <td>0</td>\n",
       "      <td>4</td>\n",
       "      <td>4</td>\n",
       "      <td>1</td>\n",
       "      <td>1</td>\n",
       "      <td>0</td>\n",
       "    </tr>\n",
       "    <tr>\n",
       "      <th>616</th>\n",
       "      <td>6</td>\n",
       "      <td>0.665</td>\n",
       "      <td>21.920000</td>\n",
       "      <td>3.688</td>\n",
       "      <td>3.598</td>\n",
       "      <td>14.64</td>\n",
       "      <td>12</td>\n",
       "      <td>2</td>\n",
       "      <td>1</td>\n",
       "      <td>0</td>\n",
       "      <td>15</td>\n",
       "      <td>23</td>\n",
       "      <td>0</td>\n",
       "      <td>0</td>\n",
       "      <td>0</td>\n",
       "    </tr>\n",
       "    <tr>\n",
       "      <th>617</th>\n",
       "      <td>6</td>\n",
       "      <td>0.802</td>\n",
       "      <td>22.260000</td>\n",
       "      <td>3.530</td>\n",
       "      <td>3.484</td>\n",
       "      <td>15.25</td>\n",
       "      <td>25</td>\n",
       "      <td>0</td>\n",
       "      <td>2</td>\n",
       "      <td>0</td>\n",
       "      <td>10</td>\n",
       "      <td>14</td>\n",
       "      <td>1</td>\n",
       "      <td>1</td>\n",
       "      <td>0</td>\n",
       "    </tr>\n",
       "  </tbody>\n",
       "</table>\n",
       "<p>618 rows × 15 columns</p>\n",
       "</div>"
      ],
      "text/plain": [
       "     AGE  SPHEQ         AL    ACD     LT    VCD  SPORTHR  READHR  COMPHR  \\\n",
       "0      6 -0.052  21.889999  3.690  3.498  14.70       45       8       0   \n",
       "1      6  0.608  22.379999  3.702  3.392  15.29        4       0       1   \n",
       "2      6  1.179  22.490000  3.462  3.514  15.52       14       0       2   \n",
       "3      6  0.525  22.200001  3.862  3.612  14.73       18      11       0   \n",
       "4      5  0.697  23.290001  3.676  3.454  16.16       14       0       0   \n",
       "..   ...    ...        ...    ...    ...    ...      ...     ...     ...   \n",
       "613    6  0.678  22.400000  3.663  3.803  14.93        2       0       7   \n",
       "614    6  0.665  22.500000  3.570  3.378  15.56        6       0       1   \n",
       "615    6  1.834  22.940001  3.624  3.424  15.89        8       0       0   \n",
       "616    6  0.665  21.920000  3.688  3.598  14.64       12       2       1   \n",
       "617    6  0.802  22.260000  3.530  3.484  15.25       25       0       2   \n",
       "\n",
       "     STUDYHR  TVHR  DIOPTERHR  MOMMY  DADMY  MYOPIC  \n",
       "0          0    10         34      1      1       1  \n",
       "1          1     7         12      1      1       0  \n",
       "2          0    10         14      0      0       0  \n",
       "3          0     4         37      0      1       1  \n",
       "4          0     4          4      1      0       0  \n",
       "..       ...   ...        ...    ...    ...     ...  \n",
       "613        3    14         37      1      0       1  \n",
       "614        0     8         10      1      1       0  \n",
       "615        0     4          4      1      1       0  \n",
       "616        0    15         23      0      0       0  \n",
       "617        0    10         14      1      1       0  \n",
       "\n",
       "[618 rows x 15 columns]"
      ]
     },
     "execution_count": 2,
     "metadata": {},
     "output_type": "execute_result"
    }
   ],
   "source": [
    "# Import the data\n",
    "file_path = Path(\"myopia.csv\")\n",
    "df = pd.read_csv(file_path)\n",
    "df"
   ]
  },
  {
   "cell_type": "code",
   "execution_count": 3,
   "metadata": {},
   "outputs": [],
   "source": [
    "# Remove the \"MYOPIC\" column from the dataset.\n",
    "target_df = df.drop('MYOPIC', axis=1)\n"
   ]
  },
  {
   "cell_type": "code",
   "execution_count": 4,
   "metadata": {},
   "outputs": [],
   "source": [
    "#Standardizing the data\n",
    "myopia_scaled = StandardScaler().fit_transform(target_df)"
   ]
  },
  {
   "cell_type": "code",
   "execution_count": 5,
   "metadata": {},
   "outputs": [
    {
     "data": {
      "text/plain": [
       "array([[ 12.13805926,  31.63621189,  -4.52662538],\n",
       "       [-15.26836285,  -6.09569473,   1.2070745 ],\n",
       "       [-11.66223916,   3.75510503,   2.80821178],\n",
       "       ...,\n",
       "       [-23.15630411,  -1.33725918,  -1.15176635],\n",
       "       [ -2.26448079,   1.09638499,   6.45876893],\n",
       "       [-10.35437728,  14.58755696,   1.55768903]])"
      ]
     },
     "execution_count": 5,
     "metadata": {},
     "output_type": "execute_result"
    }
   ],
   "source": [
    "# Initialize PCA model\n",
    "pca = PCA(n_components=0.90)\n",
    "\n",
    "# Reduce features\n",
    "myopia_pca = pca.fit_transform(target_df)\n",
    "myopia_pca"
   ]
  },
  {
   "cell_type": "code",
   "execution_count": 6,
   "metadata": {},
   "outputs": [
    {
     "data": {
      "text/html": [
       "<div>\n",
       "<style scoped>\n",
       "    .dataframe tbody tr th:only-of-type {\n",
       "        vertical-align: middle;\n",
       "    }\n",
       "\n",
       "    .dataframe tbody tr th {\n",
       "        vertical-align: top;\n",
       "    }\n",
       "\n",
       "    .dataframe thead th {\n",
       "        text-align: right;\n",
       "    }\n",
       "</style>\n",
       "<table border=\"1\" class=\"dataframe\">\n",
       "  <thead>\n",
       "    <tr style=\"text-align: right;\">\n",
       "      <th></th>\n",
       "      <th>principal component 1</th>\n",
       "      <th>principal component 2</th>\n",
       "      <th>principal component 3</th>\n",
       "    </tr>\n",
       "  </thead>\n",
       "  <tbody>\n",
       "    <tr>\n",
       "      <th>0</th>\n",
       "      <td>12.138059</td>\n",
       "      <td>31.636212</td>\n",
       "      <td>-4.526625</td>\n",
       "    </tr>\n",
       "    <tr>\n",
       "      <th>1</th>\n",
       "      <td>-15.268363</td>\n",
       "      <td>-6.095695</td>\n",
       "      <td>1.207074</td>\n",
       "    </tr>\n",
       "    <tr>\n",
       "      <th>2</th>\n",
       "      <td>-11.662239</td>\n",
       "      <td>3.755105</td>\n",
       "      <td>2.808212</td>\n",
       "    </tr>\n",
       "    <tr>\n",
       "      <th>3</th>\n",
       "      <td>11.235886</td>\n",
       "      <td>4.012566</td>\n",
       "      <td>-8.179565</td>\n",
       "    </tr>\n",
       "    <tr>\n",
       "      <th>4</th>\n",
       "      <td>-22.446506</td>\n",
       "      <td>4.580916</td>\n",
       "      <td>-1.817501</td>\n",
       "    </tr>\n",
       "    <tr>\n",
       "      <th>...</th>\n",
       "      <td>...</td>\n",
       "      <td>...</td>\n",
       "      <td>...</td>\n",
       "    </tr>\n",
       "    <tr>\n",
       "      <th>613</th>\n",
       "      <td>10.414160</td>\n",
       "      <td>-10.950135</td>\n",
       "      <td>5.155179</td>\n",
       "    </tr>\n",
       "    <tr>\n",
       "      <th>614</th>\n",
       "      <td>-16.878251</td>\n",
       "      <td>-3.756665</td>\n",
       "      <td>2.251089</td>\n",
       "    </tr>\n",
       "    <tr>\n",
       "      <th>615</th>\n",
       "      <td>-23.156304</td>\n",
       "      <td>-1.337259</td>\n",
       "      <td>-1.151766</td>\n",
       "    </tr>\n",
       "    <tr>\n",
       "      <th>616</th>\n",
       "      <td>-2.264481</td>\n",
       "      <td>1.096385</td>\n",
       "      <td>6.458769</td>\n",
       "    </tr>\n",
       "    <tr>\n",
       "      <th>617</th>\n",
       "      <td>-10.354377</td>\n",
       "      <td>14.587557</td>\n",
       "      <td>1.557689</td>\n",
       "    </tr>\n",
       "  </tbody>\n",
       "</table>\n",
       "<p>618 rows × 3 columns</p>\n",
       "</div>"
      ],
      "text/plain": [
       "     principal component 1  principal component 2  principal component 3\n",
       "0                12.138059              31.636212              -4.526625\n",
       "1               -15.268363              -6.095695               1.207074\n",
       "2               -11.662239               3.755105               2.808212\n",
       "3                11.235886               4.012566              -8.179565\n",
       "4               -22.446506               4.580916              -1.817501\n",
       "..                     ...                    ...                    ...\n",
       "613              10.414160             -10.950135               5.155179\n",
       "614             -16.878251              -3.756665               2.251089\n",
       "615             -23.156304              -1.337259              -1.151766\n",
       "616              -2.264481               1.096385               6.458769\n",
       "617             -10.354377              14.587557               1.557689\n",
       "\n",
       "[618 rows x 3 columns]"
      ]
     },
     "execution_count": 6,
     "metadata": {},
     "output_type": "execute_result"
    }
   ],
   "source": [
    "#Create df & examine shape for feature reduction\n",
    "df_myopia_pca = pd.DataFrame(\n",
    "    data=myopia_pca, columns=[\"principal component 1\", \"principal component 2\", \"principal component 3\"]\n",
    ")\n",
    "\n",
    "df_myopia_pca"
   ]
  },
  {
   "cell_type": "code",
   "execution_count": 7,
   "metadata": {},
   "outputs": [],
   "source": [
    "#Create new df for t-SNE\n",
    "df_myopia_tsne = df_myopia_pca"
   ]
  },
  {
   "cell_type": "code",
   "execution_count": 8,
   "metadata": {},
   "outputs": [],
   "source": [
    "#Initiate t-SNE model\n",
    "tsne = TSNE(learning_rate=35)"
   ]
  },
  {
   "cell_type": "code",
   "execution_count": 9,
   "metadata": {},
   "outputs": [
    {
     "name": "stderr",
     "output_type": "stream",
     "text": [
      "/Users/greg/opt/anaconda3/envs/PythonDataOne/lib/python3.7/site-packages/sklearn/manifold/_t_sne.py:783: FutureWarning: The default initialization in TSNE will change from 'random' to 'pca' in 1.2.\n",
      "  FutureWarning,\n"
     ]
    }
   ],
   "source": [
    "# Reduce dimensions\n",
    "tsne_features = tsne.fit_transform(df_myopia_tsne)"
   ]
  },
  {
   "cell_type": "code",
   "execution_count": 10,
   "metadata": {},
   "outputs": [
    {
     "data": {
      "text/plain": [
       "(618, 2)"
      ]
     },
     "execution_count": 10,
     "metadata": {},
     "output_type": "execute_result"
    }
   ],
   "source": [
    "# check the shape\n",
    "tsne_features.shape"
   ]
  },
  {
   "cell_type": "code",
   "execution_count": 12,
   "metadata": {},
   "outputs": [
    {
     "data": {
      "image/png": "[encoded data removed]",
      "text/plain": [
       "<Figure size 432x288 with 1 Axes>"
      ]
     },
     "metadata": {
      "needs_background": "light"
     },
     "output_type": "display_data"
    }
   ],
   "source": [
    "# Prepare to plot the dataset\n",
    "\n",
    "# The first column of transformed features\n",
    "df_myopia_tsne['x'] = tsne_features[:,0]\n",
    "\n",
    "# The second column of transformed features\n",
    "df_myopia_tsne['y'] = tsne_features[:,1]\n",
    "\n",
    "# Visualize the clusters\n",
    "plt.scatter(df_myopia_tsne['x'], df_myopia_tsne['y'])\n",
    "plt.show()"
   ]
  },
  {
   "cell_type": "code",
   "execution_count": 13,
   "metadata": {},
   "outputs": [],
   "source": [
    "# Initializing model with K = 3\n",
    "model = KMeans(n_clusters=3, random_state=5)"
   ]
  },
  {
   "cell_type": "code",
   "execution_count": 14,
   "metadata": {},
   "outputs": [
    {
     "data": {
      "text/plain": [
       "KMeans(n_clusters=3, random_state=5)"
      ]
     },
     "execution_count": 14,
     "metadata": {},
     "output_type": "execute_result"
    }
   ],
   "source": [
    "# Fitting model\n",
    "model.fit(df_myopia_tsne)"
   ]
  },
  {
   "cell_type": "code",
   "execution_count": 15,
   "metadata": {},
   "outputs": [
    {
     "name": "stdout",
     "output_type": "stream",
     "text": [
      "[2 1 1 0 1 0 0 1 1 2 0 1 1 1 2 1 2 2 2 2 0 1 1 0 2 2 1 2 1 1 2 0 2 2 2 0 0\n",
      " 2 1 2 1 1 0 2 2 1 0 1 2 0 1 1 1 1 1 0 2 1 1 2 2 2 0 1 0 0 1 1 2 1 0 1 0 0\n",
      " 1 2 1 0 0 2 1 2 1 2 1 1 0 0 1 2 1 1 2 2 1 0 2 1 2 2 0 1 0 2 0 0 1 2 2 2 0\n",
      " 1 1 2 1 1 2 1 2 2 2 2 1 2 0 0 2 1 1 1 2 2 0 2 2 1 1 1 2 0 2 2 1 1 1 2 2 2\n",
      " 1 0 2 2 0 1 2 1 1 2 1 2 2 1 2 1 2 2 0 2 0 1 1 2 0 2 1 2 1 1 0 1 2 0 2 2 1\n",
      " 0 1 1 1 2 2 2 2 2 2 0 1 2 1 0 1 1 2 2 2 1 0 2 1 0 0 2 2 2 2 2 0 1 1 0 1 2\n",
      " 0 1 1 0 0 2 2 1 0 0 2 0 1 1 2 0 1 2 2 0 1 2 1 2 2 1 0 2 2 2 1 0 1 2 1 1 2\n",
      " 1 2 1 1 1 1 1 2 1 1 1 1 1 2 0 1 1 2 1 0 2 1 0 2 0 2 1 2 0 2 2 1 1 0 1 0 1\n",
      " 1 1 0 2 1 2 0 2 2 2 0 1 2 2 0 1 2 1 1 2 2 2 2 0 0 0 2 0 2 2 1 2 1 2 2 1 1\n",
      " 2 1 2 1 1 0 2 2 2 1 2 1 2 1 2 0 2 1 1 2 2 1 2 1 1 0 2 1 1 2 2 2 1 2 0 2 2\n",
      " 2 2 1 2 0 2 2 0 2 2 0 1 2 1 2 0 1 0 2 0 1 0 1 1 2 2 2 2 1 2 2 1 0 0 0 0 0\n",
      " 0 0 0 2 2 2 0 2 2 1 1 1 1 0 0 1 1 0 2 1 0 2 2 0 2 1 2 1 2 2 0 2 0 1 1 2 2\n",
      " 2 1 1 2 1 0 0 0 2 2 2 2 0 1 2 2 2 1 2 2 0 2 2 0 2 0 1 0 1 1 0 1 1 1 1 2 2\n",
      " 1 2 0 2 2 2 0 1 0 0 1 1 2 2 2 0 1 1 2 0 0 1 1 1 0 2 2 2 1 0 1 2 0 0 0 0 0\n",
      " 0 0 2 2 1 2 1 2 0 1 0 2 0 2 0 0 2 0 2 1 2 2 2 0 1 0 0 0 2 1 0 1 2 1 0 0 1\n",
      " 1 1 0 1 1 2 1 2 1 1 2 2 0 0 2 0 0 1 2 2 1 2 2 0 0 1 2 1 0 0 1 2 0 2 1 0 1\n",
      " 2 0 2 1 2 1 2 1 1 1 1 1 0 1 1 1 0 2 0 2 0 0 1 1 2 1]\n"
     ]
    }
   ],
   "source": [
    "# Get predictions\n",
    "predictions = model.predict(df_myopia_tsne)\n",
    "print(predictions)"
   ]
  },
  {
   "cell_type": "code",
   "execution_count": 16,
   "metadata": {},
   "outputs": [
    {
     "data": {
      "text/html": [
       "<div>\n",
       "<style scoped>\n",
       "    .dataframe tbody tr th:only-of-type {\n",
       "        vertical-align: middle;\n",
       "    }\n",
       "\n",
       "    .dataframe tbody tr th {\n",
       "        vertical-align: top;\n",
       "    }\n",
       "\n",
       "    .dataframe thead th {\n",
       "        text-align: right;\n",
       "    }\n",
       "</style>\n",
       "<table border=\"1\" class=\"dataframe\">\n",
       "  <thead>\n",
       "    <tr style=\"text-align: right;\">\n",
       "      <th></th>\n",
       "      <th>principal component 1</th>\n",
       "      <th>principal component 2</th>\n",
       "      <th>principal component 3</th>\n",
       "      <th>x</th>\n",
       "      <th>y</th>\n",
       "      <th>class</th>\n",
       "    </tr>\n",
       "  </thead>\n",
       "  <tbody>\n",
       "    <tr>\n",
       "      <th>0</th>\n",
       "      <td>12.138059</td>\n",
       "      <td>31.636212</td>\n",
       "      <td>-4.526625</td>\n",
       "      <td>-7.354384</td>\n",
       "      <td>18.302168</td>\n",
       "      <td>2</td>\n",
       "    </tr>\n",
       "    <tr>\n",
       "      <th>1</th>\n",
       "      <td>-15.268363</td>\n",
       "      <td>-6.095695</td>\n",
       "      <td>1.207074</td>\n",
       "      <td>27.945345</td>\n",
       "      <td>-7.720707</td>\n",
       "      <td>1</td>\n",
       "    </tr>\n",
       "    <tr>\n",
       "      <th>2</th>\n",
       "      <td>-11.662239</td>\n",
       "      <td>3.755105</td>\n",
       "      <td>2.808212</td>\n",
       "      <td>11.828502</td>\n",
       "      <td>-0.743483</td>\n",
       "      <td>1</td>\n",
       "    </tr>\n",
       "    <tr>\n",
       "      <th>3</th>\n",
       "      <td>11.235886</td>\n",
       "      <td>4.012566</td>\n",
       "      <td>-8.179565</td>\n",
       "      <td>-13.531606</td>\n",
       "      <td>12.945106</td>\n",
       "      <td>0</td>\n",
       "    </tr>\n",
       "    <tr>\n",
       "      <th>4</th>\n",
       "      <td>-22.446506</td>\n",
       "      <td>4.580916</td>\n",
       "      <td>-1.817501</td>\n",
       "      <td>23.102650</td>\n",
       "      <td>6.694853</td>\n",
       "      <td>1</td>\n",
       "    </tr>\n",
       "  </tbody>\n",
       "</table>\n",
       "</div>"
      ],
      "text/plain": [
       "   principal component 1  principal component 2  principal component 3  \\\n",
       "0              12.138059              31.636212              -4.526625   \n",
       "1             -15.268363              -6.095695               1.207074   \n",
       "2             -11.662239               3.755105               2.808212   \n",
       "3              11.235886               4.012566              -8.179565   \n",
       "4             -22.446506               4.580916              -1.817501   \n",
       "\n",
       "           x          y  class  \n",
       "0  -7.354384  18.302168      2  \n",
       "1  27.945345  -7.720707      1  \n",
       "2  11.828502  -0.743483      1  \n",
       "3 -13.531606  12.945106      0  \n",
       "4  23.102650   6.694853      1  "
      ]
     },
     "execution_count": 16,
     "metadata": {},
     "output_type": "execute_result"
    }
   ],
   "source": [
    "# Add a new class column to df_iris\n",
    "df_myopia_tsne[\"class\"] = model.labels_\n",
    "df_myopia_tsne.head()"
   ]
  },
  {
   "cell_type": "code",
   "execution_count": 17,
   "metadata": {},
   "outputs": [
    {
     "data": {
      "image/png": "[encoded data removed]",
      "text/plain": [
       "<Figure size 432x288 with 1 Axes>"
      ]
     },
     "metadata": {
      "needs_background": "light"
     },
     "output_type": "display_data"
    }
   ],
   "source": [
    "inertia = []\n",
    "# Same as k = list(range(1, 11))\n",
    "k = [1,2,3,4,5,6,7,8,9,10]\n",
    "\n",
    "\n",
    "# Looking for the best k\n",
    "for i in k:\n",
    "    km = KMeans(n_clusters=i, random_state=0)\n",
    "    km.fit(df_myopia_tsne)\n",
    "    inertia.append(km.inertia_)\n",
    "\n",
    "# Define a DataFrame to plot the Elbow Curve using hvPlot\n",
    "elbow_data = {\"k\": k, \"inertia\": inertia}\n",
    "df_elbow = pd.DataFrame(elbow_data)\n",
    "\n",
    "plt.plot(df_elbow['k'], df_elbow['inertia'])\n",
    "plt.xticks(range(1,11))\n",
    "plt.xlabel('Number of clusters')\n",
    "plt.ylabel('Inertia')\n",
    "plt.show()"
   ]
  },
  {
   "cell_type": "markdown",
   "metadata": {},
   "source": [
    "I would say patients can be clustered at around the 3 mark as that is where inertia begins to reduce drastically. This is supported by the t-SNE plot, which show three closely clustered but relatively distinct groupings visually.  "
   ]
  }
 ],
 "metadata": {
  "kernelspec": {
   "display_name": "Python 3.7.7 ('PythonDataOne')",
   "language": "python",
   "name": "python3"
  },
  "language_info": {
   "codemirror_mode": {
    "name": "ipython",
    "version": 3
   },
   "file_extension": ".py",
   "mimetype": "text/x-python",
   "name": "python",
   "nbconvert_exporter": "python",
   "pygments_lexer": "ipython3",
   "version": "3.7.7"
  },
  "orig_nbformat": 4,
  "vscode": {
   "interpreter": {
    "hash": "e1bbb5328806bb389a65f0ea1e896d4d1dc357abdc4852b41823c307efe4df8c"
   }
  }
 },
 "nbformat": 4,
 "nbformat_minor": 2
}
